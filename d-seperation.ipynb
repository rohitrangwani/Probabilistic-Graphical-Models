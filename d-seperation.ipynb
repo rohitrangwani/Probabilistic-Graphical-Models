{
 "cells": [
  {
   "cell_type": "code",
   "execution_count": 14,
   "metadata": {},
   "outputs": [],
   "source": [
    "import copy"
   ]
  },
  {
   "cell_type": "code",
   "execution_count": 15,
   "metadata": {},
   "outputs": [],
   "source": [
    "class GraphNode(object):\n",
    "    \"\"\"\n",
    "    Graph Node in a directed graph\n",
    "    \"\"\"\n",
    "    def __init__(self, name=\"\"):\n",
    "        \"\"\"\n",
    "        Construct a new node, and initialize the list of parents and children.\n",
    "        Each parent/child is represented by a (key, value) pair in dictionary, \n",
    "        where key is the parent/child's name, and value is an GraphNode object.\n",
    "        Args:\n",
    "        name: node name (string).\n",
    "        \"\"\"\n",
    "        self.name = name\n",
    "        self.parents = dict()\n",
    "        self.children = dict()\n",
    "\n",
    "    def add_parent(self, parent):\n",
    "        \"\"\"\n",
    "        Args:\n",
    "        parent: GraphNode object.\n",
    "        \"\"\"\n",
    "        if not isinstance(parent, GraphNode):\n",
    "            raise ValueError(\"Parent must be an instance of GraphNode class.\")\n",
    "        pname = parent.name\n",
    "        self.parents[pname] = parent\n",
    "\n",
    "    def add_child(self, child):\n",
    "        \"\"\"\n",
    "        Args:\n",
    "        child: GraphNode object.\n",
    "        \"\"\"\n",
    "        if not isinstance(child, GraphNode):\n",
    "            raise ValueError(\"Parent must be an instance of GraphNode class.\")\n",
    "        cname = child.name\n",
    "        self.children[cname] = child"
   ]
  },
  {
   "cell_type": "code",
   "execution_count": 16,
   "metadata": {},
   "outputs": [],
   "source": [
    "class BN(object):\n",
    "    \"\"\"\n",
    "    Bayesian Network Class\n",
    "    \"\"\"\n",
    "    def __init__(self):\n",
    "        \"\"\"\n",
    "        Initialize list of nodes in the graph.\n",
    "        Each node is represented by a (key, value) pair in dictionary, \n",
    "        where key is the node's name, and value is an GraphNode object\n",
    "        \"\"\"\n",
    "        self.nodes = dict()\n",
    "\n",
    "    def add_edge(self, edge):\n",
    "        \"\"\"\n",
    "        Add a directed edge to the graph.\n",
    "        \n",
    "        Args:\n",
    "        edge: a tuple (A, B) representing a directed edge A-->B,\n",
    "            where A, B are two strings representing the nodes' names\n",
    "        \"\"\"\n",
    "        (pname, cname) = edge\n",
    "\n",
    "        ## construct a new node if it doesn't exist\n",
    "        if pname not in self.nodes:\n",
    "            self.nodes[pname] = GraphNode(name=pname)\n",
    "        if cname not in self.nodes:\n",
    "            self.nodes[cname] = GraphNode(name=cname)\n",
    "\n",
    "        ## add edge\n",
    "        parent = self.nodes.get(pname)\n",
    "        child = self.nodes.get(cname) \n",
    "        parent.add_child(child)\n",
    "        child.add_parent(parent)\n",
    "\n",
    "    def print_graph(self):\n",
    "        \"\"\"\n",
    "        Visualize the current BN graph.\n",
    "        \"\"\"\n",
    "        print(\"Bayes Network: \")\n",
    "        for node_name, node in self.nodes.items():\n",
    "            print(\"\\tNode \" + node_name)\n",
    "            print(\"\\tParents: \" + str(node.parents.keys()))\n",
    "            print(\"\\tChildren: \" + str(node.children.keys()))\n",
    "\n",
    "    def find_ancestors(self, observed):\n",
    "        \"\"\"\n",
    "        Traverse the graph, find all nodes that have observed descendants.\n",
    "        Args:\n",
    "            observed: a list of strings, names of the observed nodes. \n",
    "        Returns:\n",
    "            a list of strings for the nodes' names for all nodes \n",
    "            with observed descendants.\n",
    "        \"\"\"\n",
    "        visit_nodes = copy.copy(observed) ## nodes to visit\n",
    "        obs_ancestor = set() ## observed nodes and their ancestors\n",
    "\n",
    "        ## repeatedly visit the nodes' parents\n",
    "        while len(visit_nodes) > 0:\n",
    "            next_node = self.nodes[visit_nodes.pop()]\n",
    "            ## add its' parents\n",
    "            for parent in next_node.parents:\n",
    "                obs_ancestor.add(parent)\n",
    "\n",
    "        return obs_ancestor\n",
    "\n",
    "    def d_separated(self, X, E):\n",
    "        \"\"\"\n",
    "        Find all reachable node from starting node X and rest\n",
    "        of the nodes are marked d-separated from X.\n",
    "        Reference : http://pgm.stanford.edu/Algs/page-75.pdf\n",
    "        Args:\n",
    "            X: source node\n",
    "            E: evidence set, a set of observed nodes \n",
    "        \"\"\"\n",
    "\n",
    "        ## find all ancestors for E\n",
    "        ancestors = self.find_ancestors(E)\n",
    "\n",
    "        ## Try all active paths starting from the source node \"X\".\n",
    "        ## In order to deal with v-structures, \n",
    "        ## we need to keep track of the direction of traversal:\n",
    "        ## \"up\" if traveled from child to parent, and \"down\" otherwise.\n",
    "        via_nodes = [(X, \"up\")]\n",
    "        visited = set() ## keep track of visited nodes to avoid cyclic paths\n",
    "        d_separate = set() ## set of nodes d_seperarated from \"X\"\n",
    "        reachable = set() ## set of nodes reacahble from \"X\"\n",
    "\n",
    "        while len(via_nodes) > 0: \n",
    "            (node_name, direction) = via_nodes.pop()\n",
    "            node = self.nodes[node_name]\n",
    "\n",
    "            ## skip visited nodes\n",
    "            if (node_name, direction) not in visited:\n",
    "                visited.add((node_name, direction))\n",
    "                \n",
    "                ## if reaches the node \"end\", then it is not d-separated\n",
    "                if node_name not in E and (node_name) not in reachable:\n",
    "                    reachable.add((node_name))\n",
    "                \n",
    "                ## if traversing from children, then it won't be a v-structure\n",
    "                ## the path is active as long as the current node is unobserved\n",
    "                if direction == \"up\" and node_name not in E:\n",
    "                    for parent in node.parents:\n",
    "                        via_nodes.append((parent, \"up\"))\n",
    "                    for child in node.children:\n",
    "                        via_nodes.append((child, \"down\"))\n",
    "                ## if traversing from parents, then need to check v-structure\n",
    "                elif direction == \"down\":\n",
    "                    ## path to children is always active\n",
    "                    if node_name not in E: \n",
    "                        for child in node.children:\n",
    "                            via_nodes.append((child, \"down\"))\n",
    "                    ## check node for v-structure\n",
    "                    if node_name in E or node_name in ancestors: \n",
    "                        for parent in node.parents:\n",
    "                            via_nodes.append((parent, \"up\"))\n",
    "        \n",
    "        # node not reachable from X are marked as d-separated from X\n",
    "        for node_name, node in self.nodes.items():\n",
    "            if node_name not in reachable and node_name not in E:\n",
    "                d_separate.add((node_name))        \n",
    "                         \n",
    "        return d_separate, reachable"
   ]
  },
  {
   "cell_type": "code",
   "execution_count": 17,
   "metadata": {},
   "outputs": [
    {
     "name": "stdout",
     "output_type": "stream",
     "text": [
      "No. of edges: 13\n",
      "Enter Edge nodes (A B for A -> B): A D\n",
      "Enter Edge nodes (A B for A -> B): B D\n",
      "Enter Edge nodes (A B for A -> B): D G\n",
      "Enter Edge nodes (A B for A -> B): D H\n",
      "Enter Edge nodes (A B for A -> B): G K\n",
      "Enter Edge nodes (A B for A -> B): H K\n",
      "Enter Edge nodes (A B for A -> B): H E\n",
      "Enter Edge nodes (A B for A -> B): C E\n",
      "Enter Edge nodes (A B for A -> B): E I\n",
      "Enter Edge nodes (A B for A -> B): I L\n",
      "Enter Edge nodes (A B for A -> B): F I\n",
      "Enter Edge nodes (A B for A -> B): F J\n",
      "Enter Edge nodes (A B for A -> B): J M\n"
     ]
    }
   ],
   "source": [
    "\n",
    "## Read from stdin\n",
    "nedge = input(\"No. of edges: \")\n",
    "\n",
    "edges = []\n",
    "for line in range(int(nedge)):\n",
    "    edge = input(\"Enter Edge nodes (A B for A -> B): \").split()\n",
    "    edges += [edge]"
   ]
  },
  {
   "cell_type": "code",
   "execution_count": 18,
   "metadata": {},
   "outputs": [
    {
     "data": {
      "text/plain": [
       "[['A', 'D'],\n",
       " ['B', 'D'],\n",
       " ['D', 'G'],\n",
       " ['D', 'H'],\n",
       " ['G', 'K'],\n",
       " ['H', 'K'],\n",
       " ['H', 'E'],\n",
       " ['C', 'E'],\n",
       " ['E', 'I'],\n",
       " ['I', 'L'],\n",
       " ['F', 'I'],\n",
       " ['F', 'J'],\n",
       " ['J', 'M']]"
      ]
     },
     "execution_count": 18,
     "metadata": {},
     "output_type": "execute_result"
    }
   ],
   "source": [
    "edges"
   ]
  },
  {
   "cell_type": "code",
   "execution_count": 19,
   "metadata": {},
   "outputs": [],
   "source": [
    "## create BN \n",
    "myBN = BN()\n",
    "for edge in edges:\n",
    "    myBN.add_edge(edge)"
   ]
  },
  {
   "cell_type": "markdown",
   "metadata": {},
   "source": [
    "Problem 2. Finding d-separated nodes. (28 points)\n",
    "Verify your solutions in HW1 problem 3 using your algorithm. More specifically:\n",
    "• For problems 3(a)–3(e), find all nodes that are d-separated from the source node using your algorithm,\n",
    "and find out whether the target node is included in the predicted set Y.\n",
    "• For parts 3(f)–3(g), compare the nodes obtained from your algorithm with your original solution.\n",
    "\n",
    "3.(a) Given Z = {G, L}, can influence flow from node A to node J? Justify your answer."
   ]
  },
  {
   "cell_type": "code",
   "execution_count": 20,
   "metadata": {},
   "outputs": [
    {
     "name": "stdout",
     "output_type": "stream",
     "text": [
      "## D separation ##\n",
      "Starting node: A\n",
      "Evidence set (enter nodes splited by space): G L\n",
      "Nodes d-separated from A : set()\n"
     ]
    }
   ],
   "source": [
    "print(\"## D separation ##\")\n",
    "X = input(\"Starting node: \")\n",
    "E = input(\"Evidence set (enter nodes splited by space): \").split()\n",
    "\n",
    "d_sep, reach = myBN.d_separated(X, E)\n",
    "print(\"Nodes d-separated from \" + X + \" : \" + str(d_sep))"
   ]
  },
  {
   "cell_type": "markdown",
   "metadata": {},
   "source": [
    "As observed from the output for the above Cell, none of the nodes are d-separated from A given Z = {G, L}.\n",
    "\n",
    "Hence, there should exist an Active trail between A and J to flow influence."
   ]
  },
  {
   "cell_type": "markdown",
   "metadata": {},
   "source": [
    "(b) Given Z = {L}, can influence flow from node A to node C? Justify your answer"
   ]
  },
  {
   "cell_type": "code",
   "execution_count": 21,
   "metadata": {},
   "outputs": [
    {
     "name": "stdout",
     "output_type": "stream",
     "text": [
      "## D separation ##\n",
      "Starting node: A\n",
      "Evidence set (enter nodes splited by space): L\n",
      "Nodes d-separated from A : set()\n"
     ]
    }
   ],
   "source": [
    "print(\"## D separation ##\")\n",
    "X = input(\"Starting node: \")\n",
    "E = input(\"Evidence set (enter nodes splited by space): \").split()\n",
    "\n",
    "d_sep, reach = myBN.d_separated(X, E)\n",
    "print(\"Nodes d-separated from \" + X + \" : \" + str(d_sep))"
   ]
  },
  {
   "cell_type": "markdown",
   "metadata": {},
   "source": [
    "As observed from the output for the above Cell, none of the nodes are d-separated from A given Z = {L}.\n",
    "\n",
    "Hence, there should exist an Active trail between A and C to flow influence."
   ]
  },
  {
   "cell_type": "markdown",
   "metadata": {},
   "source": [
    "(c) Given Z = {D}, can influence flow from node G to node L? Justify your answer."
   ]
  },
  {
   "cell_type": "code",
   "execution_count": 22,
   "metadata": {},
   "outputs": [
    {
     "name": "stdout",
     "output_type": "stream",
     "text": [
      "## D separation ##\n",
      "Starting node: G\n",
      "Evidence set (enter nodes splited by space): D\n",
      "Nodes d-separated from G : {'H', 'L', 'E', 'C', 'M', 'B', 'F', 'A', 'I', 'J'}\n"
     ]
    }
   ],
   "source": [
    "print(\"## D separation ##\")\n",
    "X = input(\"Starting node: \")\n",
    "E = input(\"Evidence set (enter nodes splited by space): \").split()\n",
    "\n",
    "d_sep, reach = myBN.d_separated(X, E)\n",
    "print(\"Nodes d-separated from \" + X + \" : \" + str(d_sep))"
   ]
  },
  {
   "cell_type": "markdown",
   "metadata": {},
   "source": [
    "Target node L is present in set d-separated nodes and hence, influence can not flow from G to L for given evidence set."
   ]
  },
  {
   "cell_type": "markdown",
   "metadata": {},
   "source": [
    "(d) Given Z = {D, K, M}, can influence flow from node G to node L? Justify your answer."
   ]
  },
  {
   "cell_type": "code",
   "execution_count": 23,
   "metadata": {},
   "outputs": [
    {
     "name": "stdout",
     "output_type": "stream",
     "text": [
      "## D separation ##\n",
      "Starting node: G\n",
      "Evidence set (enter nodes splited by space): D K M\n",
      "Nodes d-separated from G : {'C', 'B', 'J', 'F', 'A'}\n"
     ]
    }
   ],
   "source": [
    "print(\"## D separation ##\")\n",
    "X = input(\"Starting node: \")\n",
    "E = input(\"Evidence set (enter nodes splited by space): \").split()\n",
    "\n",
    "d_sep, reach = myBN.d_separated(X, E)\n",
    "print(\"Nodes d-separated from \" + X + \" : \" + str(d_sep))"
   ]
  },
  {
   "cell_type": "markdown",
   "metadata": {},
   "source": [
    "Yes, influence can flow from G to L, L is not present in set of d-separated nodes from G given {D, K, M}."
   ]
  },
  {
   "cell_type": "markdown",
   "metadata": {},
   "source": [
    "(e) Given Z = {C, G, L}, can influence flow from node B to node F? Justify your answer."
   ]
  },
  {
   "cell_type": "code",
   "execution_count": 24,
   "metadata": {},
   "outputs": [
    {
     "name": "stdout",
     "output_type": "stream",
     "text": [
      "## D separation ##\n",
      "Starting node: B\n",
      "Evidence set (enter nodes splited by space): C G L\n",
      "Nodes d-separated from B : set()\n"
     ]
    }
   ],
   "source": [
    "print(\"## D separation ##\")\n",
    "X = input(\"Starting node: \")\n",
    "E = input(\"Evidence set (enter nodes splited by space): \").split()\n",
    "\n",
    "d_sep, reach = myBN.d_separated(X, E)\n",
    "print(\"Nodes d-separated from \" + X + \" : \" + str(d_sep))"
   ]
  },
  {
   "cell_type": "markdown",
   "metadata": {},
   "source": [
    "As observed from the output for the above Cell, none of the nodes are d-separated from B given Z = {C, G, L}\n",
    "\n",
    "Hence, there should exist an Active trail between node B and node F to flow influence."
   ]
  },
  {
   "cell_type": "markdown",
   "metadata": {},
   "source": [
    "(f) Find the set Y that contains all nodes that are d-separated from node A, given Z = {K, E}."
   ]
  },
  {
   "cell_type": "code",
   "execution_count": 25,
   "metadata": {},
   "outputs": [
    {
     "name": "stdout",
     "output_type": "stream",
     "text": [
      "## D separation ##\n",
      "Starting node: A\n",
      "Evidence set (enter nodes splited by space): K E\n",
      "Nodes d-separated from A : {'L', 'M', 'J', 'F', 'I'}\n"
     ]
    }
   ],
   "source": [
    "print(\"## D separation ##\")\n",
    "X = input(\"Starting node: \")\n",
    "E = input(\"Evidence set (enter nodes splited by space): \").split()\n",
    "\n",
    "d_sep, reach = myBN.d_separated(X, E)\n",
    "print(\"Nodes d-separated from \" + X + \" : \" + str(d_sep))"
   ]
  },
  {
   "cell_type": "markdown",
   "metadata": {},
   "source": [
    "(g) Find the set Y that contains all nodes that are d-separated from node B, given Z = {L}."
   ]
  },
  {
   "cell_type": "code",
   "execution_count": 26,
   "metadata": {},
   "outputs": [
    {
     "name": "stdout",
     "output_type": "stream",
     "text": [
      "## D separation ##\n",
      "Starting node: B\n",
      "Evidence set (enter nodes splited by space): L\n",
      "Nodes d-separated from B : set()\n"
     ]
    }
   ],
   "source": [
    "print(\"## D separation ##\")\n",
    "X = input(\"Starting node: \")\n",
    "E = input(\"Evidence set (enter nodes splited by space): \").split()\n",
    "\n",
    "d_sep, reach = myBN.d_separated(X, E)\n",
    "print(\"Nodes d-separated from \" + X + \" : \" + str(d_sep))"
   ]
  },
  {
   "cell_type": "code",
   "execution_count": null,
   "metadata": {},
   "outputs": [],
   "source": []
  }
 ],
 "metadata": {
  "kernelspec": {
   "display_name": "Python 3",
   "language": "python",
   "name": "python3"
  },
  "language_info": {
   "codemirror_mode": {
    "name": "ipython",
    "version": 3
   },
   "file_extension": ".py",
   "mimetype": "text/x-python",
   "name": "python",
   "nbconvert_exporter": "python",
   "pygments_lexer": "ipython3",
   "version": "3.6.5"
  }
 },
 "nbformat": 4,
 "nbformat_minor": 2
}
